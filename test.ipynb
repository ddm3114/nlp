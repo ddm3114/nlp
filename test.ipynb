{
 "cells": [
  {
   "cell_type": "code",
   "execution_count": null,
   "metadata": {},
   "outputs": [],
   "source": [
    "from huggingface_hub import  snapshot_download\n",
    "save_dir =\"RoBerta/chinese\"\n",
    "model_name = \"hfl/chinese-roberta-wwm-ext\"\n",
    "snapshot_download(repo_id= model_name, local_dir =save_dir)\n",
    "\n",
    "save_dir =\"Bert/chinese\"\n",
    "model_name = \"google/bert_based_chinese\"\n",
    "snapshot_download(repo_id= model_name, local_dir =save_dir)"
   ]
  },
  {
   "cell_type": "code",
   "execution_count": null,
   "metadata": {},
   "outputs": [],
   "source": [
    "import json\n",
    "with open('dataset/cases.json', 'r', encoding='utf-8') as file:\n",
    "        augment_cases = json.load(file)\n",
    "    # print(len(existing_cases))\n",
    "with open('dataset/train.json', 'r', encoding='utf-8') as file:\n",
    "        train_cases = json.load(file)\n",
    "all_cases = train_cases+augment_cases\n",
    "with open('dataset/all_cases.json', 'w', encoding='utf-8') as file:\n",
    "    json.dump(all_cases, file, ensure_ascii=False, indent=4)\n",
    "print(len(all_cases))"
   ]
  }
 ],
 "metadata": {
  "kernelspec": {
   "display_name": "pytorch",
   "language": "python",
   "name": "python3"
  },
  "language_info": {
   "codemirror_mode": {
    "name": "ipython",
    "version": 3
   },
   "file_extension": ".py",
   "mimetype": "text/x-python",
   "name": "python",
   "nbconvert_exporter": "python",
   "pygments_lexer": "ipython3",
   "version": "3.10.14"
  }
 },
 "nbformat": 4,
 "nbformat_minor": 2
}
